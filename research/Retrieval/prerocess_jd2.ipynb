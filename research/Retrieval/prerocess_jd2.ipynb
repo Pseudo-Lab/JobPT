{
 "cells": [
  {
   "cell_type": "code",
   "execution_count": null,
   "id": "db235fc2",
   "metadata": {},
   "outputs": [],
   "source": [
    "import pandas as pd\n",
    "import textwrap\n",
    "\n",
    "from dotenv import load_dotenv\n",
    "import pandas as pd\n",
    "import os\n",
    "from pinecone import Pinecone, ServerlessSpec\n",
    "from langchain.text_splitter import RecursiveCharacterTextSplitter\n",
    "from langchain_pinecone import PineconeVectorStore\n",
    "from langchain_openai import OpenAIEmbeddings\n",
    "from tqdm import tqdm\n",
    "\n",
    "### 전역변수 가져와서 넣기"
   ]
  },
  {
   "cell_type": "code",
   "execution_count": 2,
   "id": "e21fbd8a",
   "metadata": {},
   "outputs": [],
   "source": [
    "table = pd.read_csv(\"/home/yhkim/code/JobPT/backend/get_similarity/data/korean_jd_105.csv\")"
   ]
  },
  {
   "cell_type": "code",
   "execution_count": 3,
   "id": "345ae170",
   "metadata": {},
   "outputs": [
    {
     "data": {
      "text/html": [
       "<div>\n",
       "<style scoped>\n",
       "    .dataframe tbody tr th:only-of-type {\n",
       "        vertical-align: middle;\n",
       "    }\n",
       "\n",
       "    .dataframe tbody tr th {\n",
       "        vertical-align: top;\n",
       "    }\n",
       "\n",
       "    .dataframe thead th {\n",
       "        text-align: right;\n",
       "    }\n",
       "</style>\n",
       "<table border=\"1\" class=\"dataframe\">\n",
       "  <thead>\n",
       "    <tr style=\"text-align: right;\">\n",
       "      <th></th>\n",
       "      <th>url</th>\n",
       "      <th>job_category</th>\n",
       "      <th>job_name</th>\n",
       "      <th>title</th>\n",
       "      <th>company_name_raw</th>\n",
       "      <th>company_name</th>\n",
       "      <th>location</th>\n",
       "      <th>experience_requirement</th>\n",
       "      <th>company_id</th>\n",
       "      <th>tag_name</th>\n",
       "      <th>tag_id</th>\n",
       "      <th>description</th>\n",
       "      <th>main_work</th>\n",
       "      <th>qualification</th>\n",
       "      <th>preferences</th>\n",
       "      <th>welfare</th>\n",
       "      <th>tech_list</th>\n",
       "    </tr>\n",
       "  </thead>\n",
       "  <tbody>\n",
       "    <tr>\n",
       "      <th>0</th>\n",
       "      <td>https://www.wanted.co.kr/wd/267127</td>\n",
       "      <td>10110</td>\n",
       "      <td>소프트웨어 엔지니어</td>\n",
       "      <td>[라이브클래스] Back-end Engineer</td>\n",
       "      <td>퓨쳐스콜레∙서울 성동구∙경력 5년 이상</td>\n",
       "      <td>퓨쳐스콜레</td>\n",
       "      <td>서울 성동구</td>\n",
       "      <td>경력 5년 이상</td>\n",
       "      <td>/company/18143</td>\n",
       "      <td>NaN</td>\n",
       "      <td>NaN</td>\n",
       "      <td>Mission : 우리는 지식으로 자신과 세상의 변화를 꿈꾸는 사람들을 연결합니다....</td>\n",
       "      <td>주요업무 퓨쳐스콜레 프로덕트팀에서 LiveKlass 서비스의 성장과 기술적인 혁신을...</td>\n",
       "      <td>자격요건 다음 기술과 경험을 보유하신 분을 찾습니다. • 5년 이상의 Back-en...</td>\n",
       "      <td>우대사항 다음 경험이 있으시면 더욱 좋습니다. • 커머스 플랫폼을 경험하신 분 • ...</td>\n",
       "      <td>혜택 및 복지 • 성과에 대해서도 적극적으로 보상해요! 성과급, 스톡옵션 지급 • ...</td>\n",
       "      <td>NaN</td>\n",
       "    </tr>\n",
       "    <tr>\n",
       "      <th>1</th>\n",
       "      <td>https://www.wanted.co.kr/wd/265175</td>\n",
       "      <td>10110</td>\n",
       "      <td>소프트웨어 엔지니어</td>\n",
       "      <td>AI 소프트웨어 풀스택 개발자 (3~12년)</td>\n",
       "      <td>로이드케이∙경기 성남시∙경력 3-10년</td>\n",
       "      <td>로이드케이</td>\n",
       "      <td>경기 성남시</td>\n",
       "      <td>경력 3-10년</td>\n",
       "      <td>/company/36974</td>\n",
       "      <td>NaN</td>\n",
       "      <td>NaN</td>\n",
       "      <td>로이드케이팀은 기술로 상상을 현실로 만드는 사람들입니다. 데이터·AI·클라우드·보안...</td>\n",
       "      <td>주요업무 AI 소프트웨어 풀스택 개발자로서, 다음과 같은 업무를 수행합니다. • L...</td>\n",
       "      <td>자격요건 • Al/ML 및 딥러닝 기술에 대한 이해 • MCP, A2A 등의 Pro...</td>\n",
       "      <td>우대사항 • 기술적 고민/성취에 대해 공유하고 팀웍을 통해 해결할 수 있는 커뮤니케...</td>\n",
       "      <td>혜택 및 복지 • 업무 몰입을 위한 최신 장비는 회사가 책임집니다. :) • 필요한...</td>\n",
       "      <td>NaN</td>\n",
       "    </tr>\n",
       "    <tr>\n",
       "      <th>2</th>\n",
       "      <td>https://www.wanted.co.kr/wd/315226</td>\n",
       "      <td>10110</td>\n",
       "      <td>소프트웨어 엔지니어</td>\n",
       "      <td>BMS 소프트웨어 엔지니어</td>\n",
       "      <td>한화솔루션큐셀부문(한화큐셀)∙서울 금천구∙경력 3-13년</td>\n",
       "      <td>한화솔루션큐셀부문(한화큐셀)</td>\n",
       "      <td>서울 금천구</td>\n",
       "      <td>경력 3-13년</td>\n",
       "      <td>/company/19159</td>\n",
       "      <td>NaN</td>\n",
       "      <td>NaN</td>\n",
       "      <td>큐셀 부문은 글로벌 태양광 Total Solution 기업으로, 태양광 셀, 모듈 ...</td>\n",
       "      <td>주요업무 • 공통 - BMS 시스템 요구사항 기반 소프트웨어 설계 및 구현 - AU...</td>\n",
       "      <td>자격요건 [필수요건] • 전자전기, 제어, 컴퓨터, 소프트웨어 등 유관 전공 학사 ...</td>\n",
       "      <td>우대사항 • AUTOSAR 기반 BSW/ASW 개발 경험 • ISO 26262 기능...</td>\n",
       "      <td>혜택 및 복지 복리후생/교육 등 자사 홈페이지 참고</td>\n",
       "      <td>NaN</td>\n",
       "    </tr>\n",
       "    <tr>\n",
       "      <th>3</th>\n",
       "      <td>https://www.wanted.co.kr/wd/265172</td>\n",
       "      <td>10110</td>\n",
       "      <td>소프트웨어 엔지니어</td>\n",
       "      <td>빅데이터 솔루션 데이터 엔지니어 (~10년 미만)</td>\n",
       "      <td>로이드케이∙경기 성남시∙신입-경력 8년</td>\n",
       "      <td>로이드케이</td>\n",
       "      <td>경기 성남시</td>\n",
       "      <td>신입-경력 8년</td>\n",
       "      <td>/company/36974</td>\n",
       "      <td>NaN</td>\n",
       "      <td>NaN</td>\n",
       "      <td>로이드케이는 데이터·AI·보안·클라우드 분야에서 기업의 디지털 전환을 이끄는 기술 ...</td>\n",
       "      <td>주요업무 ㆍ대용량/실시간 데이터 수집/처리 및 모니터링 시스템 설계/운영 ㆍ키워드/...</td>\n",
       "      <td>자격요건 ㆍPython/Shell Script 기반 데이터 파이프라인 자동화 경험 ...</td>\n",
       "      <td>우대사항 ㆍ컴퓨터 공학, 시스템 공학 등 관련 전공 ㆍ대용량/실시간 데이터 수집 파...</td>\n",
       "      <td>혜택 및 복지 • 업무 몰입을 위한 최신 장비는 회사가 책임집니다. :) • 필요한...</td>\n",
       "      <td>NaN</td>\n",
       "    </tr>\n",
       "    <tr>\n",
       "      <th>4</th>\n",
       "      <td>https://www.wanted.co.kr/wd/314976</td>\n",
       "      <td>10110</td>\n",
       "      <td>소프트웨어 엔지니어</td>\n",
       "      <td>iOS 신입 개발자</td>\n",
       "      <td>딥메디∙서울 관악구∙신입</td>\n",
       "      <td>딥메디</td>\n",
       "      <td>서울 관악구</td>\n",
       "      <td>신입</td>\n",
       "      <td>/company/10409</td>\n",
       "      <td>NaN</td>\n",
       "      <td>NaN</td>\n",
       "      <td>딥메디(Deepmedi)는 카메라 기반 디지털 바이오마커 분석 기술을 통해 보다 쉽...</td>\n",
       "      <td>주요업무 ○ UIKit 기반 애플리케이션 개발을 담당 ○ 배포앱 리팩토링 및 유지보...</td>\n",
       "      <td>자격요건 ○ 신입 또는 경력 1년이하 ○ UIKit을 활용한 전반적인 경험과 Sna...</td>\n",
       "      <td>우대사항 ○ MVVM 아키텍처 패턴에 대한 이해 및 실제 프로젝트 적용 경험 ○ 카...</td>\n",
       "      <td>혜택 및 복지 ○ 주 52시간제 준수, 자율 근무제 (오전 8 ~ 10시 출근, 오...</td>\n",
       "      <td>NaN</td>\n",
       "    </tr>\n",
       "  </tbody>\n",
       "</table>\n",
       "</div>"
      ],
      "text/plain": [
       "                                  url  job_category    job_name  \\\n",
       "0  https://www.wanted.co.kr/wd/267127         10110  소프트웨어 엔지니어   \n",
       "1  https://www.wanted.co.kr/wd/265175         10110  소프트웨어 엔지니어   \n",
       "2  https://www.wanted.co.kr/wd/315226         10110  소프트웨어 엔지니어   \n",
       "3  https://www.wanted.co.kr/wd/265172         10110  소프트웨어 엔지니어   \n",
       "4  https://www.wanted.co.kr/wd/314976         10110  소프트웨어 엔지니어   \n",
       "\n",
       "                         title                 company_name_raw  \\\n",
       "0   [라이브클래스] Back-end Engineer            퓨쳐스콜레∙서울 성동구∙경력 5년 이상   \n",
       "1     AI 소프트웨어 풀스택 개발자 (3~12년)            로이드케이∙경기 성남시∙경력 3-10년   \n",
       "2               BMS 소프트웨어 엔지니어  한화솔루션큐셀부문(한화큐셀)∙서울 금천구∙경력 3-13년   \n",
       "3  빅데이터 솔루션 데이터 엔지니어 (~10년 미만)            로이드케이∙경기 성남시∙신입-경력 8년   \n",
       "4                   iOS 신입 개발자                    딥메디∙서울 관악구∙신입   \n",
       "\n",
       "      company_name location experience_requirement      company_id  tag_name  \\\n",
       "0            퓨쳐스콜레   서울 성동구               경력 5년 이상  /company/18143       NaN   \n",
       "1            로이드케이   경기 성남시               경력 3-10년  /company/36974       NaN   \n",
       "2  한화솔루션큐셀부문(한화큐셀)   서울 금천구               경력 3-13년  /company/19159       NaN   \n",
       "3            로이드케이   경기 성남시               신입-경력 8년  /company/36974       NaN   \n",
       "4              딥메디   서울 관악구                     신입  /company/10409       NaN   \n",
       "\n",
       "   tag_id                                        description  \\\n",
       "0     NaN  Mission : 우리는 지식으로 자신과 세상의 변화를 꿈꾸는 사람들을 연결합니다....   \n",
       "1     NaN  로이드케이팀은 기술로 상상을 현실로 만드는 사람들입니다. 데이터·AI·클라우드·보안...   \n",
       "2     NaN  큐셀 부문은 글로벌 태양광 Total Solution 기업으로, 태양광 셀, 모듈 ...   \n",
       "3     NaN  로이드케이는 데이터·AI·보안·클라우드 분야에서 기업의 디지털 전환을 이끄는 기술 ...   \n",
       "4     NaN  딥메디(Deepmedi)는 카메라 기반 디지털 바이오마커 분석 기술을 통해 보다 쉽...   \n",
       "\n",
       "                                           main_work  \\\n",
       "0  주요업무 퓨쳐스콜레 프로덕트팀에서 LiveKlass 서비스의 성장과 기술적인 혁신을...   \n",
       "1  주요업무 AI 소프트웨어 풀스택 개발자로서, 다음과 같은 업무를 수행합니다. • L...   \n",
       "2  주요업무 • 공통 - BMS 시스템 요구사항 기반 소프트웨어 설계 및 구현 - AU...   \n",
       "3  주요업무 ㆍ대용량/실시간 데이터 수집/처리 및 모니터링 시스템 설계/운영 ㆍ키워드/...   \n",
       "4  주요업무 ○ UIKit 기반 애플리케이션 개발을 담당 ○ 배포앱 리팩토링 및 유지보...   \n",
       "\n",
       "                                       qualification  \\\n",
       "0  자격요건 다음 기술과 경험을 보유하신 분을 찾습니다. • 5년 이상의 Back-en...   \n",
       "1  자격요건 • Al/ML 및 딥러닝 기술에 대한 이해 • MCP, A2A 등의 Pro...   \n",
       "2  자격요건 [필수요건] • 전자전기, 제어, 컴퓨터, 소프트웨어 등 유관 전공 학사 ...   \n",
       "3  자격요건 ㆍPython/Shell Script 기반 데이터 파이프라인 자동화 경험 ...   \n",
       "4  자격요건 ○ 신입 또는 경력 1년이하 ○ UIKit을 활용한 전반적인 경험과 Sna...   \n",
       "\n",
       "                                         preferences  \\\n",
       "0  우대사항 다음 경험이 있으시면 더욱 좋습니다. • 커머스 플랫폼을 경험하신 분 • ...   \n",
       "1  우대사항 • 기술적 고민/성취에 대해 공유하고 팀웍을 통해 해결할 수 있는 커뮤니케...   \n",
       "2  우대사항 • AUTOSAR 기반 BSW/ASW 개발 경험 • ISO 26262 기능...   \n",
       "3  우대사항 ㆍ컴퓨터 공학, 시스템 공학 등 관련 전공 ㆍ대용량/실시간 데이터 수집 파...   \n",
       "4  우대사항 ○ MVVM 아키텍처 패턴에 대한 이해 및 실제 프로젝트 적용 경험 ○ 카...   \n",
       "\n",
       "                                             welfare  tech_list  \n",
       "0  혜택 및 복지 • 성과에 대해서도 적극적으로 보상해요! 성과급, 스톡옵션 지급 • ...        NaN  \n",
       "1  혜택 및 복지 • 업무 몰입을 위한 최신 장비는 회사가 책임집니다. :) • 필요한...        NaN  \n",
       "2                       혜택 및 복지 복리후생/교육 등 자사 홈페이지 참고        NaN  \n",
       "3  혜택 및 복지 • 업무 몰입을 위한 최신 장비는 회사가 책임집니다. :) • 필요한...        NaN  \n",
       "4  혜택 및 복지 ○ 주 52시간제 준수, 자율 근무제 (오전 8 ~ 10시 출근, 오...        NaN  "
      ]
     },
     "execution_count": 3,
     "metadata": {},
     "output_type": "execute_result"
    }
   ],
   "source": [
    "##기존에는 평문이라 retrieval에 큰 문제는 없었는데 이런 데이터는 일정구분자로 구분해서 평문으로 만들어주는게 좋을듯 하다\n",
    "##물론 최종적으로는 본문과 같은 형태를 만드는게 추천에 베스트로 생각됨\n",
    "table.head()"
   ]
  },
  {
   "cell_type": "code",
   "execution_count": 52,
   "id": "bdfdabb8",
   "metadata": {},
   "outputs": [
    {
     "name": "stdout",
     "output_type": "stream",
     "text": [
      "105\n",
      "105\n"
     ]
    }
   ],
   "source": [
    "print(len(table))\n",
    "print(len(table.drop_duplicates()))"
   ]
  },
  {
   "cell_type": "code",
   "execution_count": 4,
   "id": "7d96bb7d",
   "metadata": {},
   "outputs": [
    {
     "data": {
      "text/plain": [
       "Index(['url', 'job_category', 'job_name', 'title', 'company_name_raw',\n",
       "       'company_name', 'location', 'experience_requirement', 'company_id',\n",
       "       'tag_name', 'tag_id', 'description', 'main_work', 'qualification',\n",
       "       'preferences', 'welfare', 'tech_list'],\n",
       "      dtype='object')"
      ]
     },
     "execution_count": 4,
     "metadata": {},
     "output_type": "execute_result"
    }
   ],
   "source": [
    "table.columns"
   ]
  },
  {
   "cell_type": "code",
   "execution_count": 6,
   "id": "871cd2c9",
   "metadata": {},
   "outputs": [
    {
     "name": "stdout",
     "output_type": "stream",
     "text": [
      "url                                      https://www.wanted.co.kr/wd/267127\n",
      "job_category                                                          10110\n",
      "job_name                                                         소프트웨어 엔지니어\n",
      "title                                            [라이브클래스] Back-end Engineer\n",
      "company_name_raw                                      퓨쳐스콜레∙서울 성동구∙경력 5년 이상\n",
      "company_name                                                          퓨쳐스콜레\n",
      "location                                                             서울 성동구\n",
      "experience_requirement                                             경력 5년 이상\n",
      "company_id                                                   /company/18143\n",
      "tag_name                                                                NaN\n",
      "tag_id                                                                  NaN\n",
      "description               Mission : 우리는 지식으로 자신과 세상의 변화를 꿈꾸는 사람들을 연결합니다....\n",
      "main_work                 주요업무 퓨쳐스콜레 프로덕트팀에서 LiveKlass 서비스의 성장과 기술적인 혁신을...\n",
      "qualification             자격요건 다음 기술과 경험을 보유하신 분을 찾습니다. • 5년 이상의 Back-en...\n",
      "preferences               우대사항 다음 경험이 있으시면 더욱 좋습니다. • 커머스 플랫폼을 경험하신 분 • ...\n",
      "welfare                   혜택 및 복지 • 성과에 대해서도 적극적으로 보상해요! 성과급, 스톡옵션 지급 • ...\n",
      "tech_list                                                               NaN\n",
      "Name: 0, dtype: object\n"
     ]
    }
   ],
   "source": [
    "temp = table.iloc[0]\n",
    "print(temp)"
   ]
  },
  {
   "cell_type": "markdown",
   "id": "c94541ad",
   "metadata": {},
   "source": [
    "### 데이터 처리"
   ]
  },
  {
   "cell_type": "code",
   "execution_count": 40,
   "id": "52be76bd",
   "metadata": {},
   "outputs": [],
   "source": [
    "###청킹 전 메타데이터도 embedding 영역에추가 아래 보이는 3개 영역을 나누는 구분자 추가\n",
    "\n",
    "sentence = \"<chunk_sep>\".join([temp[\"description\"],\\\n",
    "f\"\\n\\n하는일: {temp['main_work']}\\n\\n자격요건: {temp['qualification']}\",\\\n",
    "f\"\\n\\nurl: {temp['url']}\\n\\njob_name: {temp['job_name']}\\n\\ncompany_name: {temp['company_name']}\\n\\nwelfare: {temp['welfare']}\"])"
   ]
  },
  {
   "cell_type": "code",
   "execution_count": 41,
   "id": "43536096",
   "metadata": {},
   "outputs": [
    {
     "name": "stdout",
     "output_type": "stream",
     "text": [
      "Mission : 우리는 지식으로 자신과 세상의 변화를 꿈꾸는 사람들을 연결합니다. Vision : 사는 곳이 배움의 기회를 제한하지 않는 세상을 만듭니다. [지식으로 세상을 연결하는 라이브클래스] 우리는 위 미션을 바탕으로 비전을 이루기 위해 ‘라이브클래스’와 '라이브클래스Pro'를 만들고 있습니다. ‘라이브클래스’는 나만의 온라인 강의 사이트를 손쉽게 만들 수 있는 지식 비즈니스 플랫폼으로 사람들이 자신의 지식을 가장 쉽고 빠르게 판매할 수 있도록 돕습니다. '라이브클래스Pro'는 대규모의 챌린지 또는 코호트 교육을 하는 기업에 최적화된 플랫폼으로 전용 앱과 웹을 제공합니다. [국내 1위 지식 비즈니스 플랫폼, 라이브클래스] • 2만 여개의 고객사, 월 50만명이 사용하는 플랫폼 • 창업 2년 만에 월 BEP 달성, 연 평균 500%의 거래액 성장 기록 • 정부 지자체, 대학, 민간기관 등 100여곳의 기관에서 활용하는 라이브클래스 • 70억 이상의 누적 투자 유치(뮤렉스파트너스, 티비티파트너스, HB인베스트먼트, 임팩트스퀘어 등) • 대한민국 대표 강사 김미경(MKYU)의 '미모리안' 등 각 분야별 1위 기업 및 지식 크리에이터들을 통한 성장 [우리는 이렇게 일하고 성장해요.] 1. 막연한 불안과 걱정 대신, 내가 바꿀 수 있는 것(영향력의 원)에 집중해요. 2. 고객이 다섯을 원할 때, 열을 만족 시키기 위해 노력해요. 3. 빠르게 실행하고, 데이터에 기반해 집요하게 개선해요. 4. 최고의 서비스를 만들기 위해 한계를 두지 않고 지속적으로 성장해요. 5. No라고 말하는 것을 두려워하지 않고, 결국 Yes를 이끌어 내요. 6. 상대방을 존중하되, 대안을 가지고 솔직하게 소통해요. 7. 미친 가속을 원하는 사람도, 워라밸을 원하는 사람도 상호 성장하는 문화를 만들어 가요. 8. 현재 내가 누리는 것에 감사하며, 대접 받고 싶은 대로 먼저 실천해요. 라이브클래스와 세상을 바꾸는 여정에 함께할 당신을 기다립니다. 다양한 백그라운드의 멋진 팀원들과 협업하며 엄청난 성장을 약속드려요. 주요업무 퓨쳐스콜레 프로덕트팀에서 LiveKlass 서비스의 성장과 기술적인 혁신을 함께합니다. • LiveKlass 서비스 백엔드 시스템을 설계하고 개발합니다. • 프론트엔드 팀과 협업하여 확장 가능하고 성능이 뛰어난 시스템을 구축합니다. • 스쿼드 단위로 PM, UXUI, FE 팀 등 다양한 직군과 긴밀하게 협업하여 라이브클래스의 기능을 개발합니다. • AWS 클라우드 환경에서 서비스 개발, 모니터링, 운영을 수행하며 DevOps, SRE 문화를 함께 만들어갑니다. • Jira, Slack, Notion, Github 등의 협업 툴을 활용하여 비즈니스 팀과 지속적으로 협업합니다. • 새로운 기술과 방향성을 학습하고 문제 해결을 위해 함께 고민하고 협력합니다. 자격요건 다음 기술과 경험을 보유하신 분을 찾습니다. • 5년 이상의 Back-end 개발 경력 또는 그에 준하는 경험 보유 • 대규모 트래픽 환경에서의 서비스 운영 및 성능 최적화 경험이 있으신 분 • 스쿼드 단위 과제를 주도하며, 아키텍처 설계부터 구현·운영 안정화까지 스쿼드 내 백엔드 영역을 리딩할 수 있는 분. [Java & Spring Framework] • Java 8 이상 개발 경험 • Spring Boot 기반의 웹 애플리케이션 개발 경험 • Spring MVC, Spring Data JPA, Spring Security 등의 활용 능력 [데이터베이스 (MariaDB)] • MariaDB(MySQL) 설계 및 최적화 경험 • ORM(JPA, Hibernate) 활용 및 Native Query 튜닝 경험 • 데이터 마이그레이션 및 백업/복구 경험 [클라우드 & DevOps (AWS, Docker)] • AWS EC2, S3, RDS(MariaDB), Lambda, SQS, SNS 등의 서비스 활용 경험 • Docker 컨테이너 및 Docker Compose 활용 경험 • ECS, EKS, K8S 등 운영 및 구축 경험 • CI/CD 파이프라인 구축 경험 (GitHub Actions, Jenkins 등) [기타 필수 기술] • RESTful API 설계 및 개발 경험 • 대규모 트래픽을 고려한 시스템 설계 경험 • Git을 활용한 협업 경험 • 단위 테스트 및 통합 테스트 작성 경험 (JUnit, Mockito 등) • 프론트엔드 개발자, 기획자 등 타 직군과 협업 경험 우대사항 다음 경험이 있으시면 더욱 좋습니다. • 커머스 플랫폼을 경험하신 분 • 신규 서비스 또는 핵심 기능의 백엔드 아키텍처를 직접 설계·구현해본 경험이 있으신 분 • 코드 리뷰, 기술 세션 등을 통해 팀 내 기술적 기준을 세우고 공유한 경험이 있으신 분 • DevOps, 테스트 자동화, 모니터링/로깅 체계 구축 등 회색지대 업무까지 자발적으로 메워본 경험이 있으신 분 [아키텍처 & 성능 최적화] • 마이크로서비스 아키텍처(MSA) 경험 • 이벤트 기반 아키텍처(EDA) 경험 • 대용량 트래픽 처리 및 성능 최적화 경험 • Top & Slow Query 최적화 경험 • Redis, Kafka, RabbitMQ 등 메시징 시스템 활용 경험 [운영 & 보안] • Kubernetes를 활용한 서비스 운영 경험 • Spring Security 기반의 인증 및 인가 구현 경험 • Spring Vulnerability 개선 경험 • 서버 및 API 보안(OWASP Top 10) 고려한 개발 경험 [기타 우대 사항] • TDD(Test-Driven Development) 경험 • 대규모 프로젝트 또는 스타트업 경험 • 코드 리뷰 및 개발 문화 개선에 대한 관심 • 자체 서비스 개발 및 운영 경험 혜택 및 복지 • 성과에 대해서도 적극적으로 보상해요! 성과급, 스톡옵션 지급 • 앞으로 오래 함께 일해요! 장기근속자(매 3년) 포상 • 모든 동료들과 즐거운 시간을 보내요! 매주 금요일 성수동 맛집 탐방 • 전사가 투명하게 소통해요! 달고나 타운홀 미팅(매월 2회) • 열심히 일했으니 재미있게 놀아요! 반기에 한 번 놀샵! • 한계를 두지 말고 성장해요! 도서비 100% 지원, 세미나 100% 지원, 사내 강의 교육 지원 • 서로 존중하며 솔직하게 피드백해요! ‘영어 닉네임'으로 소통합니다. 채용 전형 • 채용 형태 : 정규직 (수습기간 3개월) • 급여 조건 : 연봉 (경력에 따라 협의) • 근무 시간 : 8시 ~ 10시 사이 자유롭게 출근합니다. • 제출 서류 : [필수]이력서 및 자기소개서, 포트폴리오 • 채용 절차 : 서류 전형 - 폰 스크리닝 (HR) - Code Tech 인터뷰 (온라인) - 1차 직무역량 인터뷰(대면, 실무진) - 2차 임원 인터뷰 (대면, CTO/CEO) - 처우협의 - 합류 * 위 채용 절차는 기본 프로세스로 경우에 따라 일부 변경이 될 수 있습니다. * 서류에 기재한 내용과 사실이 다를 경우 합격이 취소될 수 있습니다.<chunk_sep>\n",
      "\n",
      "하는일: 주요업무 퓨쳐스콜레 프로덕트팀에서 LiveKlass 서비스의 성장과 기술적인 혁신을 함께합니다. • LiveKlass 서비스 백엔드 시스템을 설계하고 개발합니다. • 프론트엔드 팀과 협업하여 확장 가능하고 성능이 뛰어난 시스템을 구축합니다. • 스쿼드 단위로 PM, UXUI, FE 팀 등 다양한 직군과 긴밀하게 협업하여 라이브클래스의 기능을 개발합니다. • AWS 클라우드 환경에서 서비스 개발, 모니터링, 운영을 수행하며 DevOps, SRE 문화를 함께 만들어갑니다. • Jira, Slack, Notion, Github 등의 협업 툴을 활용하여 비즈니스 팀과 지속적으로 협업합니다. • 새로운 기술과 방향성을 학습하고 문제 해결을 위해 함께 고민하고 협력합니다.\n",
      "\n",
      "자격요건: 자격요건 다음 기술과 경험을 보유하신 분을 찾습니다. • 5년 이상의 Back-end 개발 경력 또는 그에 준하는 경험 보유 • 대규모 트래픽 환경에서의 서비스 운영 및 성능 최적화 경험이 있으신 분 • 스쿼드 단위 과제를 주도하며, 아키텍처 설계부터 구현·운영 안정화까지 스쿼드 내 백엔드 영역을 리딩할 수 있는 분. [Java & Spring Framework] • Java 8 이상 개발 경험 • Spring Boot 기반의 웹 애플리케이션 개발 경험 • Spring MVC, Spring Data JPA, Spring Security 등의 활용 능력 [데이터베이스 (MariaDB)] • MariaDB(MySQL) 설계 및 최적화 경험 • ORM(JPA, Hibernate) 활용 및 Native Query 튜닝 경험 • 데이터 마이그레이션 및 백업/복구 경험 [클라우드 & DevOps (AWS, Docker)] • AWS EC2, S3, RDS(MariaDB), Lambda, SQS, SNS 등의 서비스 활용 경험 • Docker 컨테이너 및 Docker Compose 활용 경험 • ECS, EKS, K8S 등 운영 및 구축 경험 • CI/CD 파이프라인 구축 경험 (GitHub Actions, Jenkins 등) [기타 필수 기술] • RESTful API 설계 및 개발 경험 • 대규모 트래픽을 고려한 시스템 설계 경험 • Git을 활용한 협업 경험 • 단위 테스트 및 통합 테스트 작성 경험 (JUnit, Mockito 등) • 프론트엔드 개발자, 기획자 등 타 직군과 협업 경험<chunk_sep>\n",
      "\n",
      "url: https://www.wanted.co.kr/wd/267127\n",
      "\n",
      "job_name: 소프트웨어 엔지니어\n",
      "\n",
      "company_name: 퓨쳐스콜레\n",
      "\n",
      "welfare: 혜택 및 복지 • 성과에 대해서도 적극적으로 보상해요! 성과급, 스톡옵션 지급 • 앞으로 오래 함께 일해요! 장기근속자(매 3년) 포상 • 모든 동료들과 즐거운 시간을 보내요! 매주 금요일 성수동 맛집 탐방 • 전사가 투명하게 소통해요! 달고나 타운홀 미팅(매월 2회) • 열심히 일했으니 재미있게 놀아요! 반기에 한 번 놀샵! • 한계를 두지 말고 성장해요! 도서비 100% 지원, 세미나 100% 지원, 사내 강의 교육 지원 • 서로 존중하며 솔직하게 피드백해요! ‘영어 닉네임'으로 소통합니다.\n"
     ]
    }
   ],
   "source": [
    "print(sentence)"
   ]
  },
  {
   "cell_type": "code",
   "execution_count": 47,
   "id": "6b7a0773",
   "metadata": {},
   "outputs": [],
   "source": [
    "table[\"sentence\"] = table.apply(lambda x: \"<chunk_sep>\".join([x[\"description\"],\\\n",
    "f\"\\n\\n하는일: {x['main_work']}\\n\\n자격요건: {x['qualification']}\",\\\n",
    "f\"\\n\\nurl: {x['url']}\\n\\njob_name: {x['job_name']}\\n\\ncompany_name: {x['company_name']}\\n\\nwelfare: {x['welfare']}\"]), axis=1)"
   ]
  },
  {
   "cell_type": "code",
   "execution_count": 48,
   "id": "300f3cb0",
   "metadata": {},
   "outputs": [
    {
     "name": "stdout",
     "output_type": "stream",
     "text": [
      "[조직 소개] CJ ENM 엔터테인먼트 부문 Mnet Plus 사업부는 CJ ENM의 글로벌 KPOP 플랫폼인 Mnet Plus의 개발과 사업을 담당하는 조직으로, Mnet Plus는 Global K-Culture 소비자와 CJ ENM의 콘텐츠, 아티스트, 오프라인 콘서트를 이어주는 디지털 접점을 구축하고 있습니다. 방송/디지털의 콘텐츠, KCON/MAMA 와 같은 Global Offline Event, KPOP 아티스트들의 활동은 Mnet Plus를 통해 전세계 K-POP 팬덤에게 새로운 경험을 전하려고 합니다. 특히, K-POP 팬덤들이 문화 콘텐츠 소비자에 머무르는 것이 아니라, 아티스트의 “발탁-성장-지지-성공”의 전 과정을 함께 만들어내고 공유할 수 있도록 하며, Offline-TV 에서 Mobile까지, 한국에서 글로벌로, 경계없는 경험의 확장과 혁신을 만들어가고자 합니다. 현재 250여개국에서 발생하는 트래픽과 KPOP 팬덤의 높은 인게이지먼트를 기반으로 다양한 서비스 및 수익모델을 준비, 시도 중에 있으며 지속적인 Global Business Opportunity 발굴을 진행할 예정입니다. 주요업무 [포지션] Mnet Plus 백엔드 개발자 • 글로벌 팬덤 플랫폼 서비스인 Mnet Plus 개발 • 방송 이벤트, 콘서트, 투표 개발 • 광고 수익 개선을 위한 기능 개발 [이력서 작성 Tip] • Mnet Plus가 사용하는  Java 또는 Kotlin 경험을 중심으로 지원서를 작성해주세요. 자격요건 [필수 자격] • Java 또는 Kotlin을 사용한 서버 개발 경험 3년 이상 • RDBMS 또는 Nosql DB를 활용한 설계/운영 경험을 보유한 분 • Git 사용, 코드 리뷰에 익숙한 분 우대사항 [우대사항] • 대규모 트래픽을 고려한 시스템 디자인, 개발 경험을 보유한 분 • AWS 및 쿠버네티스 환경에서 서비스 개발/운영 경험을 보유한 분 • 초기 프로젝트에 참여하여 개발 환경 세팅, 아키텍처 수립 경험을 보유한 분 [캐릭터 & 성향] • 직군과 관계없이 어울릴 수 있고, 적극적인 커뮤니케이션을 하려고 노력하는 분 • 우선순위를 명확히 하여 Resource 대비 최대의 Impact를 만들어 줄 수 있는 분 • 나의 팀만을 위한 의사결정이 아닌 사업부 차원의 의사결정을 할 수 있는 분 • 사업과 조직의 Stage변화에 맞춰 유연하게 사고하고, 일하는 방법과 Role, Formation 방식 등에 유연하게 대응할 수 있는 분 • 콘텐츠에 대한 진심과 애정으로 콘텐츠業을 사랑하며 진정한 덕업일치를 이루고 싶은 분 혜택 및 복지 ■ 할인 및 REFRESH 휴가를 통한 국내 최고 수준의 복지 혜택 • CJ 멤버스카드 제공  : CJ그룹 사업장 40% 임직원 할인 • CJ mall 임직원 할인 : 결제 시 10% 할인 (연간 500만원 할인한도 內, 중도입사자의 경우 할인한도 월할계산 부여) • Break for an Invent (B.I.) : 2주에 1회씩 8시간의 창의활동을 위한 자율시간 (개인 연차 소진 없음) • CJ Work On : CJ ENM 본사(상암)과 거점 오피스(분당, 강남, 서울역, 용산역, 동대문)를 활용한 Hybrid Work • Creative Challenge(창의 휴가) : 근속 5년마다 4주의 휴가 및 휴가비 지원 • 무이자 주택대부 : 2,000만원 (만 1년 이상 근무자) • 의료비 지원 : 본인에 한해 건강보험 대상 진료비 중 10만원 이상 지출비용 전액지원 • 야간교통비 : 평일 또는 주말 23시~06시 퇴근 시 택시 실비 주중 지급 • CJ ENM 콘텐츠 각종 예매권 지급: 영화예매권, 뮤지컬, 페스티벌 등 • 자기개발 지원 : 온/오프라인 교육과정 지원, 전화외국어, 어학시험 응시료 연 2회 지원, 도서대여 서비스 • 휴가 및 호텔 할인 지원 : 해외여행(호텔/ 패키지상품), 국내호텔/콘도 지원, 제주 나인브릿지 및 여주 헤슬리 햄릿 지원 • ENM센터 휴게시설 지원 : 안마의자, 네일케어, 헬스키퍼 등 • CJ 웨딩홀, 웨딩카 지원, 난임부부 시술비용, 출산축하선물 지원 • 만 5-6세 자녀보육수당 연 120만원, 자녀학자금 실비지원(취학 직전 유치원 자녀, 중/고생, 전문대이상, 자녀 수 제한 없음) • ENM 어린이집 • 자녀입학 돌봄휴가, 긴급자녀돌봄 근로시간 단축제도 • 각종 경조사 지원 채용 전형 • 서류전형 ＞코딩테스트 ＞ 면접 전형 ＞ 평판조회, 채용검진 및 처우협의 ＞ 입사 • 본 채용공고는 상시채용으로 인재영입이 완료되면 조기 종료될 수 있습니다. • 서류전형 합격자에 한해 별도로 연락드릴 예정입니다. • 국가보훈자 및 국가등록장애인은 관련 법에 의거하여 우대합니다. • 병역필 또는 면제로 해외여행에 결격사유가 없는 분에 한하여 지원 가능합니다. • 지원서 내용이 사실과 다르거나 허위 서류를 제출한 경우 채용 취소 등 불이익을 받을 수 있습니다. • 최종 합격 시, 입사일로부터 3개월간의 수습기간이 적용되며, 업무 적격성 평가에 따라 채용이 취소될 수 있습니다.<chunk_sep>\n",
      "\n",
      "하는일: 주요업무 [포지션] Mnet Plus 백엔드 개발자 • 글로벌 팬덤 플랫폼 서비스인 Mnet Plus 개발 • 방송 이벤트, 콘서트, 투표 개발 • 광고 수익 개선을 위한 기능 개발 [이력서 작성 Tip] • Mnet Plus가 사용하는  Java 또는 Kotlin 경험을 중심으로 지원서를 작성해주세요.\n",
      "\n",
      "자격요건: 자격요건 [필수 자격] • Java 또는 Kotlin을 사용한 서버 개발 경험 3년 이상 • RDBMS 또는 Nosql DB를 활용한 설계/운영 경험을 보유한 분 • Git 사용, 코드 리뷰에 익숙한 분<chunk_sep>\n",
      "\n",
      "url: https://www.wanted.co.kr/wd/284928\n",
      "\n",
      "job_name: DevOps / 시스템 관리자\n",
      "\n",
      "company_name: 씨제이이엔엠(CJ ENM)\n",
      "\n",
      "welfare: 혜택 및 복지 ■ 할인 및 REFRESH 휴가를 통한 국내 최고 수준의 복지 혜택 • CJ 멤버스카드 제공  : CJ그룹 사업장 40% 임직원 할인 • CJ mall 임직원 할인 : 결제 시 10% 할인 (연간 500만원 할인한도 內, 중도입사자의 경우 할인한도 월할계산 부여) • Break for an Invent (B.I.) : 2주에 1회씩 8시간의 창의활동을 위한 자율시간 (개인 연차 소진 없음) • CJ Work On : CJ ENM 본사(상암)과 거점 오피스(분당, 강남, 서울역, 용산역, 동대문)를 활용한 Hybrid Work • Creative Challenge(창의 휴가) : 근속 5년마다 4주의 휴가 및 휴가비 지원 • 무이자 주택대부 : 2,000만원 (만 1년 이상 근무자) • 의료비 지원 : 본인에 한해 건강보험 대상 진료비 중 10만원 이상 지출비용 전액지원 • 야간교통비 : 평일 또는 주말 23시~06시 퇴근 시 택시 실비 주중 지급 • CJ ENM 콘텐츠 각종 예매권 지급: 영화예매권, 뮤지컬, 페스티벌 등 • 자기개발 지원 : 온/오프라인 교육과정 지원, 전화외국어, 어학시험 응시료 연 2회 지원, 도서대여 서비스 • 휴가 및 호텔 할인 지원 : 해외여행(호텔/ 패키지상품), 국내호텔/콘도 지원, 제주 나인브릿지 및 여주 헤슬리 햄릿 지원 • ENM센터 휴게시설 지원 : 안마의자, 네일케어, 헬스키퍼 등 • CJ 웨딩홀, 웨딩카 지원, 난임부부 시술비용, 출산축하선물 지원 • 만 5-6세 자녀보육수당 연 120만원, 자녀학자금 실비지원(취학 직전 유치원 자녀, 중/고생, 전문대이상, 자녀 수 제한 없음) • ENM 어린이집 • 자녀입학 돌봄휴가, 긴급자녀돌봄 근로시간 단축제도 • 각종 경조사 지원\n"
     ]
    }
   ],
   "source": [
    "print(table[\"sentence\"][42])"
   ]
  },
  {
   "cell_type": "markdown",
   "id": "073adf0d",
   "metadata": {},
   "source": [
    "### vectorDB 로드"
   ]
  },
  {
   "cell_type": "code",
   "execution_count": 54,
   "id": "e1bee16c",
   "metadata": {},
   "outputs": [
    {
     "name": "stdout",
     "output_type": "stream",
     "text": [
      "인덱스가 이미 존재합니다\n"
     ]
    }
   ],
   "source": [
    "collection = \"korea-jd-test\"\n",
    "\n",
    "index_name = collection\n",
    "if pc.has_index(index_name):\n",
    "    print(\"인덱스가 이미 존재합니다\")\n",
    "    index = pc.Index(index_name)\n",
    "    ## 데이터가 남아있을때 데이터 제거\n",
    "    # if len(index.describe_index_stats()[\"namespaces\"]) > 0:\n",
    "    #     index.delete(delete_all=True, namespace=\"\")"
   ]
  },
  {
   "cell_type": "markdown",
   "id": "59f0e620",
   "metadata": {},
   "source": [
    "### 청킹&메타데이터 추출"
   ]
  },
  {
   "cell_type": "code",
   "execution_count": 57,
   "id": "90e8b222",
   "metadata": {},
   "outputs": [],
   "source": [
    "sentences = table[\"sentence\"]\n",
    "text_splitter = RecursiveCharacterTextSplitter(chunk_size=1024, chunk_overlap=100, separators=[\"<chunk_sep>\",\"\\r\\n\",\"\\n\\n\", \"\\n\", \"\\t\", \" \", \"\"])\n"
   ]
  },
  {
   "cell_type": "code",
   "execution_count": 96,
   "id": "48fdead2",
   "metadata": {},
   "outputs": [],
   "source": [
    "### 청킹&구분자 제거\n",
    "total_chunks = []\n",
    "for i, desciption in enumerate(sentences):\n",
    "    meta_data = [{\"description\":table.iloc[i][\"description\"],\n",
    "    \"job_url\": table.iloc[i][\"url\"],\n",
    "    \"company\": table.iloc[i][\"company_name\"],\n",
    "    \"location\": table.iloc[i][\"location\"],\n",
    "    \"experience_requirement\": table.iloc[i][\"experience_requirement\"],\n",
    "    \n",
    "    }]\n",
    "    chunks = text_splitter.create_documents([desciption], meta_data)\n",
    "\n",
    "    for chunk in chunks:\n",
    "        chunk.page_content = chunk.page_content.replace(\"<chunk_sep>\",\"\")\n",
    "    total_chunks.extend(chunks)\n",
    "# for k, v in total_chunks[0].metadata.items():\n",
    "#     ###description은 전문을 보여주기 위해 추가한 메타데이터입니다\n",
    "#     print(k, v)"
   ]
  },
  {
   "cell_type": "markdown",
   "id": "08ee8c01",
   "metadata": {},
   "source": [
    "### 데이터 업로드"
   ]
  },
  {
   "cell_type": "code",
   "execution_count": 103,
   "id": "0d28cb34",
   "metadata": {},
   "outputs": [],
   "source": [
    "emb_model = OpenAIEmbeddings()\n",
    "vector_store = PineconeVectorStore(index=index, embedding=emb_model)\n",
    "\n",
    "total = len(total_chunks)\n",
    "batch_size = 100"
   ]
  },
  {
   "cell_type": "code",
   "execution_count": 104,
   "id": "fd4c1a20",
   "metadata": {},
   "outputs": [
    {
     "name": "stderr",
     "output_type": "stream",
     "text": [
      "Upserting to Pinecone: 100%|██████████| 6/6 [00:23<00:00,  3.96s/it]\n"
     ]
    }
   ],
   "source": [
    "for start in tqdm(range(0, total, batch_size), desc=\"Upserting to Pinecone\"):\n",
    "    end = start + batch_size\n",
    "    batch_docs = total_chunks[start:end]\n",
    "    vector_store.add_documents(documents=batch_docs)"
   ]
  },
  {
   "cell_type": "code",
   "execution_count": null,
   "id": "664ea240",
   "metadata": {},
   "outputs": [],
   "source": [
    "## 인덱스 생성 확인\n",
    "try:\n",
    "    print(\"DB 상태 확인 중...\")\n",
    "    print(f\"- 인덱스 정보: {index.describe_index_stats()}\")\n",
    "except Exception as e:\n",
    "    print(f\"DB 상태 확인 중 에러 발생: {str(e)}\")\n",
    "    raise"
   ]
  },
  {
   "cell_type": "code",
   "execution_count": null,
   "id": "5504f500",
   "metadata": {},
   "outputs": [],
   "source": []
  },
  {
   "cell_type": "code",
   "execution_count": null,
   "id": "c38b22c1",
   "metadata": {},
   "outputs": [],
   "source": []
  },
  {
   "cell_type": "code",
   "execution_count": null,
   "id": "f244d349",
   "metadata": {},
   "outputs": [],
   "source": []
  },
  {
   "cell_type": "code",
   "execution_count": null,
   "id": "f49ba1e2",
   "metadata": {},
   "outputs": [],
   "source": []
  }
 ],
 "metadata": {
  "kernelspec": {
   "display_name": ".venv",
   "language": "python",
   "name": "python3"
  },
  "language_info": {
   "codemirror_mode": {
    "name": "ipython",
    "version": 3
   },
   "file_extension": ".py",
   "mimetype": "text/x-python",
   "name": "python",
   "nbconvert_exporter": "python",
   "pygments_lexer": "ipython3",
   "version": "3.10.12"
  }
 },
 "nbformat": 4,
 "nbformat_minor": 5
}
