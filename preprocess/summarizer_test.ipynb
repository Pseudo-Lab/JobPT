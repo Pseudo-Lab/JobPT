{
 "cells": [
  {
   "cell_type": "code",
   "execution_count": 2,
   "id": "54675e98",
   "metadata": {},
   "outputs": [],
   "source": [
    "from utils import *\n",
    "import pandas as pd\n",
    "import os"
   ]
  },
  {
   "cell_type": "code",
   "execution_count": null,
   "id": "af0be29d",
   "metadata": {},
   "outputs": [
    {
     "ename": "OpenAIError",
     "evalue": "The api_key client option must be set either by passing api_key to the client or by setting the OPENAI_API_KEY environment variable",
     "output_type": "error",
     "traceback": [
      "\u001b[0;31m---------------------------------------------------------------------------\u001b[0m",
      "\u001b[0;31mOpenAIError\u001b[0m                               Traceback (most recent call last)",
      "Cell \u001b[0;32mIn[3], line 1\u001b[0m\n\u001b[0;32m----> 1\u001b[0m model \u001b[38;5;241m=\u001b[39m \u001b[43mUpstage\u001b[49m\u001b[43m(\u001b[49m\u001b[43mapi_key\u001b[49m\u001b[38;5;241;43m=\u001b[39;49m\u001b[43mos\u001b[49m\u001b[38;5;241;43m.\u001b[39;49m\u001b[43mgetenv\u001b[49m\u001b[43m(\u001b[49m\u001b[38;5;124;43m\"\u001b[39;49m\u001b[38;5;124;43mUPSTAGE_API_KEY\u001b[39;49m\u001b[38;5;124;43m\"\u001b[39;49m\u001b[43m)\u001b[49m\u001b[43m)\u001b[49m\n",
      "File \u001b[0;32m~/code/JobPT_dev/preprocess/utils.py:75\u001b[0m, in \u001b[0;36mUpstage.__init__\u001b[0;34m(self, api_key)\u001b[0m\n\u001b[1;32m     74\u001b[0m \u001b[38;5;28;01mdef\u001b[39;00m\u001b[38;5;250m \u001b[39m\u001b[38;5;21m__init__\u001b[39m(\u001b[38;5;28mself\u001b[39m, api_key: \u001b[38;5;28mstr\u001b[39m):\n\u001b[0;32m---> 75\u001b[0m     \u001b[38;5;28mself\u001b[39m\u001b[38;5;241m.\u001b[39mclient \u001b[38;5;241m=\u001b[39m \u001b[43mOpenAI\u001b[49m\u001b[43m(\u001b[49m\n\u001b[1;32m     76\u001b[0m \u001b[43m        \u001b[49m\u001b[43mapi_key\u001b[49m\u001b[38;5;241;43m=\u001b[39;49m\u001b[43mapi_key\u001b[49m\u001b[43m,\u001b[49m\n\u001b[1;32m     77\u001b[0m \u001b[43m        \u001b[49m\u001b[43mbase_url\u001b[49m\u001b[38;5;241;43m=\u001b[39;49m\u001b[38;5;124;43m\"\u001b[39;49m\u001b[38;5;124;43mhttps://api.upstage.ai/v1\u001b[39;49m\u001b[38;5;124;43m\"\u001b[39;49m\n\u001b[1;32m     78\u001b[0m \u001b[43m    \u001b[49m\u001b[43m)\u001b[49m\n",
      "File \u001b[0;32m~/code/JobPT/.venv/lib/python3.10/site-packages/openai/_client.py:135\u001b[0m, in \u001b[0;36mOpenAI.__init__\u001b[0;34m(self, api_key, organization, project, webhook_secret, base_url, websocket_base_url, timeout, max_retries, default_headers, default_query, http_client, _strict_response_validation)\u001b[0m\n\u001b[1;32m    133\u001b[0m     api_key \u001b[38;5;241m=\u001b[39m os\u001b[38;5;241m.\u001b[39menviron\u001b[38;5;241m.\u001b[39mget(\u001b[38;5;124m\"\u001b[39m\u001b[38;5;124mOPENAI_API_KEY\u001b[39m\u001b[38;5;124m\"\u001b[39m)\n\u001b[1;32m    134\u001b[0m \u001b[38;5;28;01mif\u001b[39;00m api_key \u001b[38;5;129;01mis\u001b[39;00m \u001b[38;5;28;01mNone\u001b[39;00m:\n\u001b[0;32m--> 135\u001b[0m     \u001b[38;5;28;01mraise\u001b[39;00m OpenAIError(\n\u001b[1;32m    136\u001b[0m         \u001b[38;5;124m\"\u001b[39m\u001b[38;5;124mThe api_key client option must be set either by passing api_key to the client or by setting the OPENAI_API_KEY environment variable\u001b[39m\u001b[38;5;124m\"\u001b[39m\n\u001b[1;32m    137\u001b[0m     )\n\u001b[1;32m    138\u001b[0m \u001b[38;5;28;01mif\u001b[39;00m \u001b[38;5;28mcallable\u001b[39m(api_key):\n\u001b[1;32m    139\u001b[0m     \u001b[38;5;28mself\u001b[39m\u001b[38;5;241m.\u001b[39mapi_key \u001b[38;5;241m=\u001b[39m \u001b[38;5;124m\"\u001b[39m\u001b[38;5;124m\"\u001b[39m\n",
      "\u001b[0;31mOpenAIError\u001b[0m: The api_key client option must be set either by passing api_key to the client or by setting the OPENAI_API_KEY environment variable"
     ]
    }
   ],
   "source": [
    "### ipynb에서는 os.getenv 사용 불가(저는 직접 넣어 사용하고 지웠습니다)\n",
    "model = Upstage(api_key=os.getenv(\"UPSTAGE_API_KEY\"))"
   ]
  },
  {
   "cell_type": "code",
   "execution_count": 4,
   "id": "96f595b3",
   "metadata": {},
   "outputs": [
    {
     "name": "stdout",
     "output_type": "stream",
     "text": [
      "안녕하세요! 😊  \n",
      "어떻게 도와줄 수 있을까요? 궁금한 점이나 도움이 필요한 것이 있다면 편하게 알려주세요.  \n",
      "\n",
      "예를 들어...  \n",
      "- **질문**이 있거나,  \n",
      "- **추천**이 필요하거나,  \n",
      "- **간단한 대화**를 나누고 싶다면 언제든 말씀해주세요!  \n",
      "\n",
      "기다리고 있을게요 ✨\n"
     ]
    }
   ],
   "source": [
    "### request를 무조건 list(dict{role, content})로 전달해야함\n",
    "temp_request = [{\"role\": \"user\", \"content\": \"안녕\"}]\n",
    "print(model.summary(temp_request))"
   ]
  },
  {
   "cell_type": "code",
   "execution_count": 17,
   "id": "50d8fe26",
   "metadata": {},
   "outputs": [],
   "source": [
    "df = pd.read_csv(\"./korean_jd_105.csv\")"
   ]
  },
  {
   "cell_type": "code",
   "execution_count": 6,
   "id": "2f50f3a2",
   "metadata": {},
   "outputs": [],
   "source": [
    "def format_jd_to_prompt_short(jd_data):\n",
    "    items = [f\"{k}: {v}\\n\" for k, v in dict(jd_data).items() if str(v).strip() not in ('', 'nan', 'NaN', 'None')]\n",
    "    return '\\n'.join(items).strip()"
   ]
  },
  {
   "cell_type": "code",
   "execution_count": 18,
   "id": "118a460c",
   "metadata": {},
   "outputs": [
    {
     "name": "stdout",
     "output_type": "stream",
     "text": [
      "0 processed\n",
      "1 processed\n",
      "2 processed\n",
      "3 processed\n"
     ]
    }
   ],
   "source": [
    "jd_prompts = []\n",
    "for i in range(len(df)):\n",
    "    jd_prompts.append(format_jd_to_prompt_short(df.iloc[i][['url', 'job_name', 'title', 'company_name', 'location', 'experience_requirement',\n",
    "       'description', 'main_work', 'qualification',\n",
    "       'preferences', 'welfare']]))\n",
    "    print(f\"{i} processed\")   "
   ]
  },
  {
   "cell_type": "code",
   "execution_count": null,
   "id": "390f6635",
   "metadata": {},
   "outputs": [],
   "source": [
    "system_prompt = \"\"\"당신은 JD를 분석하여 정형화된 요약본을 생성하는 인공지능 비서입니다. 제공된 모든 JD 정보를 분석하여, 다음 3가지 섹션을 포함하는 마크다운 형식의 한국어 요약본을 생성해야 합니다: 1. 주요 직무 및 목표, 2. 필수 역량 및 자격, 3. 우대 사항 및 복지. 각 섹션의 내용은 불릿 리스트(-)로 구성하고, 원문에서 제시된 내용만 사용하며 추측성 내용을 배제하세요.\n",
    "\"\"\""
   ]
  },
  {
   "cell_type": "code",
   "execution_count": 43,
   "id": "d7a38b7c",
   "metadata": {},
   "outputs": [],
   "source": [
    "# print(jd_prompts[1])"
   ]
  },
  {
   "cell_type": "code",
   "execution_count": 41,
   "id": "326f1c76",
   "metadata": {},
   "outputs": [
    {
     "name": "stdout",
     "output_type": "stream",
     "text": [
      "### 📌 **AI 소프트웨어 풀스택 개발자 (3~12년) 요약**  \n",
      "\n",
      "#### 1. **주요 직무 및 목표**  \n",
      "- **LLM 기반 시스템 개발**: RAG 시스템 및 Agent 개발  \n",
      "- **AI Orchestration 구현**: Multi LLM, STT, TTS 등 도메인 특화 Agent 개발  \n",
      "- **시스템 아키텍처 설계**: SaaS 및 온프레미스 환경에서의 설계, 배포, 운영  \n",
      "- **프롬프트 엔지니어링**: CoT, ReAct 등 기법 활용 및 LLM 기능 확장 모듈 개발  \n",
      "- **데이터 파이프라인 구축**: MQ, Stream 활용 및 VectorDB/RDBMS/NOSQL 기반 시각화  \n",
      "- **운영 플랫폼 개발**: 최적화 플랫폼 및 운영 툴 개발  \n",
      "\n",
      "#### 2. **필수 역량 및 자격**  \n",
      "- **AI/ML 기술 이해**: 딥러닝 및 LLM 관련 지식 보유  \n",
      "- **프로토콜 이해**: MCP, A2A 등 통신 프로토콜 경험  \n",
      "- **웹 애플리케이션 개발**: REST API 설계·개발·운영 경험  \n",
      "- **풀스택 기술 스택**:  \n",
      "  - Backend: Spring Boot, FastAPI 등  \n",
      "  - Frontend: React, Typescript 등  \n",
      "- **데이터베이스 관리**: RDBMS/NOSQL/VectorDB 설계 및 SQL 최적화 경험  \n",
      "- **클라우드 활용**: AWS/GCP/Azure 서비스 배포 경험  \n",
      "- **DevOps 경험**: Docker/Kubernetes 기반 서비스 운영 및 자동화  \n",
      "\n",
      "#### 3. **우대 사항 및 복지**  \n",
      "- **우대 사항**  \n",
      "  - 기술적 커뮤니케이션 능력 및 팀웍  \n",
      "  - 다양한 분야에 대한 호기심과 빠른 학습 능력  \n",
      "  - 컴퓨터공학 전공 또는 IT 관련 자격증 보유  \n",
      "  - 대규모 검색/벡터 검색 시스템 구축 경험  \n",
      "  - OpenAI/Hugging Face 등 외부 LLM 연동 경험  \n",
      "  - MLOps 환경 구축·운영 경험 (모델 버전 관리, 모니터링 등)  \n",
      "  - NLP 기반 검색/추천 시스템 개발 경험  \n",
      "  - 기술 컨설팅 또는 프로젝트 리딩 경험  \n",
      "\n",
      "- **복지 혜택**  \n",
      "  - 최신 업무 장비 지원  \n",
      "  - 업무 관련 도서 무제한 신청 가능  \n",
      "  - 야근 시 저녁 식사 및 택시비 지원  \n",
      "  - 간식 무제한 제공 + 반반차(2시간) 제도  \n",
      "  - 건강검진 시 유급 연차 제공  \n",
      "  - 퇴직연금(DC형) 운영  \n",
      "  - 근속 3년마다 7일 Refresh 휴가 지원  \n",
      "  - 명절 선물(10만 원 상당) 및 생일 반차(2026년부터) 제공\n"
     ]
    }
   ],
   "source": [
    "### request를 무조건 list(dict{role, content})로 전달해야함\n",
    "request = [\n",
    "    {\"role\": \"system\", \"content\": system_prompt},\n",
    "    {\"role\": \"user\", \"content\": jd_prompts[1]}\n",
    "]\n",
    "print(model.summary(request))"
   ]
  },
  {
   "cell_type": "markdown",
   "id": "03f78243",
   "metadata": {},
   "source": [
    "# 모듈화"
   ]
  },
  {
   "cell_type": "code",
   "execution_count": 7,
   "id": "12b48add",
   "metadata": {},
   "outputs": [],
   "source": [
    "import yaml"
   ]
  },
  {
   "cell_type": "code",
   "execution_count": 8,
   "id": "5540970d",
   "metadata": {},
   "outputs": [],
   "source": [
    "df = pd.read_csv(\"./korean_jd_105.csv\")"
   ]
  },
  {
   "cell_type": "code",
   "execution_count": null,
   "id": "fb52d683",
   "metadata": {},
   "outputs": [],
   "source": [
    "model = Upstage(api_key=os.getenv(\"UPSTAGE_API_KEY\"))"
   ]
  },
  {
   "cell_type": "code",
   "execution_count": 10,
   "id": "00217cbb",
   "metadata": {},
   "outputs": [],
   "source": [
    "with open(\"./prompts.yaml\", 'r', encoding='utf-8') as file:\n",
    "        prompts = yaml.safe_load(file)"
   ]
  },
  {
   "cell_type": "code",
   "execution_count": 11,
   "id": "8be39ddb",
   "metadata": {},
   "outputs": [],
   "source": [
    "# print(prompts[\"prompts_ver1\"][\"user\"].format(jd=jd_prompts[1]))"
   ]
  },
  {
   "cell_type": "code",
   "execution_count": 12,
   "id": "ca4ed483",
   "metadata": {},
   "outputs": [],
   "source": [
    "from tqdm import tqdm"
   ]
  },
  {
   "cell_type": "code",
   "execution_count": 19,
   "id": "33fc4957",
   "metadata": {},
   "outputs": [
    {
     "name": "stderr",
     "output_type": "stream",
     "text": [
      "100%|██████████| 4/4 [00:15<00:00,  3.85s/it]\n"
     ]
    }
   ],
   "source": [
    "### request를 무조건 list(dict{role, content})로 전달해야함\n",
    "summaries = []\n",
    "for i in tqdm(range(len(df))):\n",
    "    request = [\n",
    "        {\"role\": \"system\", \"content\": prompts[\"prompts_ver1\"][\"system\"]},\n",
    "        {\"role\": \"user\", \"content\": prompts[\"prompts_ver1\"][\"user\"].format(jd=jd_prompts[i])}\n",
    "    ]  \n",
    "    summaries.append(model.summary(request))"
   ]
  },
  {
   "cell_type": "code",
   "execution_count": 90,
   "id": "b4179b2d",
   "metadata": {},
   "outputs": [],
   "source": [
    "summaries = summaries*51\n",
    "summaries = summaries[:len(df)]"
   ]
  },
  {
   "cell_type": "code",
   "execution_count": 91,
   "id": "6871ddf9",
   "metadata": {},
   "outputs": [],
   "source": [
    "df[\"summary\"] = summaries"
   ]
  },
  {
   "cell_type": "code",
   "execution_count": 20,
   "id": "61f97c0a",
   "metadata": {},
   "outputs": [
    {
     "data": {
      "text/plain": [
       "['### 주요 직무 및 목표  \\n- LiveKlass 서비스 백엔드 시스템 설계 및 개발  \\n- 프론트엔드 팀과 협업하여 확장성 및 성능 우수한 시스템 구축  \\n- 스쿼드 단위(PM, UXUI, FE 팀 등)로 기능 개발 및 협업  \\n- AWS 클라우드 환경에서 서비스 개발, 모니터링, 운영 및 DevOps/SRE 문화 구축  \\n- Jira, Slack, Notion, Github 등 협업 툴 활용 및 비즈니스 팀과 지속적 협업  \\n- 신기술 학습 및 문제 해결을 위한 협력  \\n\\n### 필수 역량 및 자격  \\n- 5년 이상 백엔드 개발 경력 또는 이에 상응하는 경험  \\n- 대규모 트래픽 환경에서의 서비스 운영 및 성능 최적화 경험  \\n- 스쿼드 단위 과제 주도 및 백엔드 아키텍처 설계·구현·운영 리딩 능력  \\n- **Java & Spring Framework**: Java 8+, Spring Boot, Spring MVC, Spring Data JPA, Spring Security 활용 능력  \\n- **데이터베이스 (MariaDB)**: MariaDB 설계·최적화, ORM(JPA/Hibernate) 활용, Native Query 튜닝, 데이터 마이그레이션/백업 경험  \\n- **클라우드 & DevOps (AWS, Docker)**: AWS 서비스(EC2, S3, RDS 등), Docker 컨테이너/Docker Compose, ECS/EKS/K8S 운영, CI/CD 파이프라인(GitHub Actions/Jenkins) 구축 경험  \\n- RESTful API 설계·개발, 대규모 트래픽 고려 시스템 설계, Git 협업, 단위/통합 테스트(JUnit/Mockito) 작성, 타 직군 협업 경험  \\n\\n### 우대 사항 및 복지  \\n**우대 사항**  \\n- 커머스 플랫폼 또는 신규 서비스 백엔드 아키텍처 설계·구현 경험  \\n- 코드 리뷰/기술 세션을 통한 팀 내 기술 기준 수립 및 공유 경험  \\n- DevOps, 테스트 자동화, 모니터링/로깅 체계 구축 등 회색지대 업무 수행 경험  \\n- **아키텍처 & 성능 최적화**: MSA/EDA 경험, 대용량 트래픽 처리/성능 최적화, Top & Slow Query 최적화, 메시징 시스템(Redis/Kafka/RabbitMQ) 활용 경험  \\n- **운영 & 보안**: Kubernetes 운영, Spring Security 기반 인증·인가 구현, OWASP Top 10 고려 개발 경험  \\n- TDD 경험, 대규모 프로젝트/스타트업 경험, 코드 리뷰/개발 문화 개선 관심, 자체 서비스 개발·운영 경험  \\n\\n**복지**  \\n- 성과급 및 스톡옵션 지급  \\n- 장기근속자(3년) 포상  \\n- 매주 금요일 성수동 맛집 탐방  \\n- 매월 2회 달고나 타운홀 미팅(전사 소통)  \\n- 반기별 놀샵(팀 빌딩 행사)  \\n- 도서비/세미나 비용 100% 지원, 사내 강의 교육 지원  \\n- 영어 닉네임 사용 및 상호 존중 문화',\n",
       " '### 주요 직무 및 목표  \\n- LLM 기반 RAG 시스템 및 Agent 개발  \\n- Multi LLM, STT, TTS 등 도메인 특화 Agent 개발을 통한 AI Orchestration 구현  \\n- SaaS 및 온프레미스 환경에서 시스템 아키텍처 설계, 배포, 운영  \\n- 프롬프트 엔지니어링(CoT, ReAct 등) 및 LLM 기능 확장 모듈 개발  \\n- MQ, Stream 등을 활용한 데이터 파이프라인 구축 및 VectorDB/RDBMS/NOSQL 활용  \\n- 운영 툴 및 최적화 플랫폼 개발  \\n\\n### 필수 역량 및 자격  \\n- AI/ML 및 딥러닝 기술에 대한 이해  \\n- MCP, A2A 등의 Protocol에 대한 이해  \\n- 웹 애플리케이션 및 REST API 설계·개발·운영 경험  \\n- Backend(Spring Boot, FastAPI 등) 및 Frontend(React, Typescript 등) 이해  \\n- DB 설계 및 SQL 최적화 경험(RDBMS/NOSQL/VectorDB)  \\n- 클라우드(AWS/GCP/Azure) 서비스 활용 및 배포 경험  \\n- Docker/Kubernetes 기반 서비스 운영 및 DevOps 자동화 경험  \\n\\n### 우대 사항 및 복지  \\n- 기술적 고민/성취 공유 및 팀웍을 통한 문제 해결 커뮤니케이션 능력  \\n- 다양한 분야에 대한 호기심 및 빠른 습득력  \\n- 컴퓨터공학 등 관련 전공 및 IT 관련 자격증 보유  \\n- 대규모 검색/벡터 검색 시스템 구축 및 최적화 경험  \\n- OpenAI/Hugging Face 등 외부 LLM 연동 및 서빙 경험  \\n- MLOps 환경 구축·운영 경험(모델 버전 관리, 서빙, 모니터링 등)  \\n- NLP 기반 검색/추천 시스템 개발 경험  \\n- 기술 컨설팅, 프로젝트 리딩 경험  \\n- 최신 업무 장비 지원  \\n- 업무 관련 도서 비용 지원  \\n- 야근 시 저녁 식사 제공  \\n- 택시비 지원(늦은 퇴근 시)  \\n- 간식 무한 제공  \\n- 반반차(2시간) 제도 운영  \\n- 건강검진 연차(유급) 제공  \\n- 퇴직연금(DC형) 운영  \\n- 근속 3년 주기 Refresh 휴가(7일) 지원  \\n- 명절 선물(10만 원 상당) 지원  \\n- 생일 반차 지급(26년도부터 시행 예정)',\n",
       " '### 주요 직무 및 목표  \\n- BMS 시스템 요구사항 기반 소프트웨어 설계 및 구현  \\n- AUTOSAR 및 Non-AUTOSAR 임베디드 펌웨어 구조 설계  \\n- HIL/SIL 환경 기반 소프트웨어 검증 및 자동화 테스트  \\n- 정적 분석 도구를 활용한 코드 품질 관리  \\n- MISRA-C, ISO 26262, ASPICE 등 품질 기준 준수  \\n- SOC/SOH/SOP 상태 추정 및 알고리즘 연동 모듈 개발  \\n- Fault Detection, Thermal Management, Charge/Discharge 제어 로직 개발  \\n- 통신 진단 서비스(CAN, UDS 등) 및 이벤트 로직 설계  \\n- 상태 전이 제어(State Machine), 제어 흐름 로직 구현  \\n- 유닛 테스트 및 동적 시험을 통한 로직 검증  \\n- MCU 초기화, Timer, ADC, PWM, GPIO 등 하드웨어 제어 드라이버 개발  \\n- CAN, SPI, UART 통신 스택 및 인터페이스 개발  \\n- Bootloader, Watchdog, Memory Manager 등 시스템 제어 소프트웨어 개발  \\n- RTOS 기반 Task Scheduling 및 인터럽트 처리  \\n- 정적 시험 및 유닛 테스트 수행을 통한 품질 확보  \\n\\n### 필수 역량 및 자격  \\n- 전자전기, 제어, 컴퓨터, 소프트웨어 등 유관 전공 학사 이상  \\n- C/C++ 기반 임베디드 소프트웨어 개발 경력 3년 이상  \\n- BMS, ESS, EV ECU 등 제어 시스템 소프트웨어 개발 경험  \\n- BSW 또는 ASW 분야 개발 경험  \\n- Unit Test, Integration Test 수행 경험  \\n- 정적 분석 및 코드 커버리지, 코드 리뷰 등 품질 관리 경험  \\n- 근무지: 서울 금천구 가산연구소  \\n- 4년제 학사 학위 이상 소지자  \\n- 남성 병역 필 또는 면제자  \\n- 해외 출장 및 해외 법인 파견 가능자  \\n\\n### 우대 사항 및 복지  \\n- AUTOSAR 기반 BSW/ASW 개발 경험  \\n- ISO 26262 기능안전 프로세스 경험  \\n- HIL, CANoe, INCA, ETAS 등 테스트 및 계측 툴 사용 경험  \\n- Python, CAPL, MATLAB/Simulink 사용 역량  \\n- 정적 분석 도구, 동적 분석 도구 사용 경험  \\n- 복리후생/교육 등 자사 홈페이지 참고',\n",
       " '### 주요 직무 및 목표  \\n- 대용량/실시간 데이터 수집·처리 및 모니터링 시스템 설계·운영  \\n- 키워드/벡터 검색 시스템 구축 및 최적화 성능 튜닝  \\n- 이상 탐지/예측 분석 및 트렌드 분석 시스템 구축  \\n- 데이터 파이프라인 구축 및 자동화  \\n\\n### 필수 역량 및 자격  \\n- Python/Shell Script 기반 데이터 파이프라인 자동화 경험  \\n- Linux 및 클라우드 환경(AWS, GCP, Azure 등) 활용 경험  \\n- 문제 해결 능력 및 원활한 커뮤니케이션 역량 보유  \\n\\n### 우대 사항 및 복지  \\n- 컴퓨터 공학, 시스템 공학 등 관련 전공  \\n- 대용량/실시간 데이터 수집 파이프라인 설계 및 운영 경험  \\n- Java/Python 기반 검색 서비스 개발 및 운영 경험  \\n- 최신 업무 장비 지원  \\n- 업무 관련 도서 무제한 신청 가능  \\n- 야근 시 저녁 식사 제공  \\n- 택시비 지원으로 안전한 귀가 지원  \\n- 간식 무한 제공  \\n- 반반차(2시간) 제도 운영  \\n- 건강검진 시 유급 연차 제공  \\n- 퇴직연금(DC형) 운영  \\n- 근속 3년 주기마다 7일 Refresh 휴가 지원  \\n- 명절 선물(10만원 상당) 선택 가능  \\n- 생일 반차 지급(2026년도부터 시행 예정)']"
      ]
     },
     "execution_count": 20,
     "metadata": {},
     "output_type": "execute_result"
    }
   ],
   "source": [
    "summaries"
   ]
  },
  {
   "cell_type": "code",
   "execution_count": null,
   "id": "785b233c",
   "metadata": {},
   "outputs": [],
   "source": []
  },
  {
   "cell_type": "code",
   "execution_count": null,
   "id": "d641b3d2",
   "metadata": {},
   "outputs": [],
   "source": []
  },
  {
   "cell_type": "code",
   "execution_count": null,
   "id": "56e962e6",
   "metadata": {},
   "outputs": [],
   "source": []
  },
  {
   "cell_type": "code",
   "execution_count": null,
   "id": "83f6e24c",
   "metadata": {},
   "outputs": [],
   "source": []
  },
  {
   "cell_type": "code",
   "execution_count": 16,
   "id": "208966ee",
   "metadata": {},
   "outputs": [
    {
     "name": "stdout",
     "output_type": "stream",
     "text": [
      "전처리를 시작합니다\n",
      "문장처리&청킹 완료\n",
      "원본 데이터 개수: 105\n",
      "청크 개수: 525\n"
     ]
    }
   ],
   "source": [
    "data = preprocess(data)"
   ]
  },
  {
   "cell_type": "code",
   "execution_count": 18,
   "id": "86bb8b3c",
   "metadata": {},
   "outputs": [
    {
     "data": {
      "text/plain": [
       "Document(metadata={'description': \"Mission : 우리는 지식으로 자신과 세상의 변화를 꿈꾸는 사람들을 연결합니다. Vision : 사는 곳이 배움의 기회를 제한하지 않는 세상을 만듭니다. [지식으로 세상을 연결하는 라이브클래스] 우리는 위 미션을 바탕으로 비전을 이루기 위해 ‘라이브클래스’와 '라이브클래스Pro'를 만들고 있습니다. ‘라이브클래스’는 나만의 온라인 강의 사이트를 손쉽게 만들 수 있는 지식 비즈니스 플랫폼으로 사람들이 자신의 지식을 가장 쉽고 빠르게 판매할 수 있도록 돕습니다. '라이브클래스Pro'는 대규모의 챌린지 또는 코호트 교육을 하는 기업에 최적화된 플랫폼으로 전용 앱과 웹을 제공합니다. [국내 1위 지식 비즈니스 플랫폼, 라이브클래스] • 2만 여개의 고객사, 월 50만명이 사용하는 플랫폼 • 창업 2년 만에 월 BEP 달성, 연 평균 500%의 거래액 성장 기록 • 정부 지자체, 대학, 민간기관 등 100여곳의 기관에서 활용하는 라이브클래스 • 70억 이상의 누적 투자 유치(뮤렉스파트너스, 티비티파트너스, HB인베스트먼트, 임팩트스퀘어 등) • 대한민국 대표 강사 김미경(MKYU)의 '미모리안' 등 각 분야별 1위 기업 및 지식 크리에이터들을 통한 성장 [우리는 이렇게 일하고 성장해요.] 1. 막연한 불안과 걱정 대신, 내가 바꿀 수 있는 것(영향력의 원)에 집중해요. 2. 고객이 다섯을 원할 때, 열을 만족 시키기 위해 노력해요. 3. 빠르게 실행하고, 데이터에 기반해 집요하게 개선해요. 4. 최고의 서비스를 만들기 위해 한계를 두지 않고 지속적으로 성장해요. 5. No라고 말하는 것을 두려워하지 않고, 결국 Yes를 이끌어 내요. 6. 상대방을 존중하되, 대안을 가지고 솔직하게 소통해요. 7. 미친 가속을 원하는 사람도, 워라밸을 원하는 사람도 상호 성장하는 문화를 만들어 가요. 8. 현재 내가 누리는 것에 감사하며, 대접 받고 싶은 대로 먼저 실천해요. 라이브클래스와 세상을 바꾸는 여정에 함께할 당신을 기다립니다. 다양한 백그라운드의 멋진 팀원들과 협업하며 엄청난 성장을 약속드려요. 주요업무 퓨쳐스콜레 프로덕트팀에서 LiveKlass 서비스의 성장과 기술적인 혁신을 함께합니다. • LiveKlass 서비스 백엔드 시스템을 설계하고 개발합니다. • 프론트엔드 팀과 협업하여 확장 가능하고 성능이 뛰어난 시스템을 구축합니다. • 스쿼드 단위로 PM, UXUI, FE 팀 등 다양한 직군과 긴밀하게 협업하여 라이브클래스의 기능을 개발합니다. • AWS 클라우드 환경에서 서비스 개발, 모니터링, 운영을 수행하며 DevOps, SRE 문화를 함께 만들어갑니다. • Jira, Slack, Notion, Github 등의 협업 툴을 활용하여 비즈니스 팀과 지속적으로 협업합니다. • 새로운 기술과 방향성을 학습하고 문제 해결을 위해 함께 고민하고 협력합니다. 자격요건 다음 기술과 경험을 보유하신 분을 찾습니다. • 5년 이상의 Back-end 개발 경력 또는 그에 준하는 경험 보유 • 대규모 트래픽 환경에서의 서비스 운영 및 성능 최적화 경험이 있으신 분 • 스쿼드 단위 과제를 주도하며, 아키텍처 설계부터 구현·운영 안정화까지 스쿼드 내 백엔드 영역을 리딩할 수 있는 분. [Java & Spring Framework] • Java 8 이상 개발 경험 • Spring Boot 기반의 웹 애플리케이션 개발 경험 • Spring MVC, Spring Data JPA, Spring Security 등의 활용 능력 [데이터베이스 (MariaDB)] • MariaDB(MySQL) 설계 및 최적화 경험 • ORM(JPA, Hibernate) 활용 및 Native Query 튜닝 경험 • 데이터 마이그레이션 및 백업/복구 경험 [클라우드 & DevOps (AWS, Docker)] • AWS EC2, S3, RDS(MariaDB), Lambda, SQS, SNS 등의 서비스 활용 경험 • Docker 컨테이너 및 Docker Compose 활용 경험 • ECS, EKS, K8S 등 운영 및 구축 경험 • CI/CD 파이프라인 구축 경험 (GitHub Actions, Jenkins 등) [기타 필수 기술] • RESTful API 설계 및 개발 경험 • 대규모 트래픽을 고려한 시스템 설계 경험 • Git을 활용한 협업 경험 • 단위 테스트 및 통합 테스트 작성 경험 (JUnit, Mockito 등) • 프론트엔드 개발자, 기획자 등 타 직군과 협업 경험 우대사항 다음 경험이 있으시면 더욱 좋습니다. • 커머스 플랫폼을 경험하신 분 • 신규 서비스 또는 핵심 기능의 백엔드 아키텍처를 직접 설계·구현해본 경험이 있으신 분 • 코드 리뷰, 기술 세션 등을 통해 팀 내 기술적 기준을 세우고 공유한 경험이 있으신 분 • DevOps, 테스트 자동화, 모니터링/로깅 체계 구축 등 회색지대 업무까지 자발적으로 메워본 경험이 있으신 분 [아키텍처 & 성능 최적화] • 마이크로서비스 아키텍처(MSA) 경험 • 이벤트 기반 아키텍처(EDA) 경험 • 대용량 트래픽 처리 및 성능 최적화 경험 • Top & Slow Query 최적화 경험 • Redis, Kafka, RabbitMQ 등 메시징 시스템 활용 경험 [운영 & 보안] • Kubernetes를 활용한 서비스 운영 경험 • Spring Security 기반의 인증 및 인가 구현 경험 • Spring Vulnerability 개선 경험 • 서버 및 API 보안(OWASP Top 10) 고려한 개발 경험 [기타 우대 사항] • TDD(Test-Driven Development) 경험 • 대규모 프로젝트 또는 스타트업 경험 • 코드 리뷰 및 개발 문화 개선에 대한 관심 • 자체 서비스 개발 및 운영 경험 혜택 및 복지 • 성과에 대해서도 적극적으로 보상해요! 성과급, 스톡옵션 지급 • 앞으로 오래 함께 일해요! 장기근속자(매 3년) 포상 • 모든 동료들과 즐거운 시간을 보내요! 매주 금요일 성수동 맛집 탐방 • 전사가 투명하게 소통해요! 달고나 타운홀 미팅(매월 2회) • 열심히 일했으니 재미있게 놀아요! 반기에 한 번 놀샵! • 한계를 두지 말고 성장해요! 도서비 100% 지원, 세미나 100% 지원, 사내 강의 교육 지원 • 서로 존중하며 솔직하게 피드백해요! ‘영어 닉네임'으로 소통합니다. 채용 전형 • 채용 형태 : 정규직 (수습기간 3개월) • 급여 조건 : 연봉 (경력에 따라 협의) • 근무 시간 : 8시 ~ 10시 사이 자유롭게 출근합니다. • 제출 서류 : [필수]이력서 및 자기소개서, 포트폴리오 • 채용 절차 : 서류 전형 - 폰 스크리닝 (HR) - Code Tech 인터뷰 (온라인) - 1차 직무역량 인터뷰(대면, 실무진) - 2차 임원 인터뷰 (대면, CTO/CEO) - 처우협의 - 합류 * 위 채용 절차는 기본 프로세스로 경우에 따라 일부 변경이 될 수 있습니다. * 서류에 기재한 내용과 사실이 다를 경우 합격이 취소될 수 있습니다.\", 'job_url': 'https://www.wanted.co.kr/wd/267127', 'company': '퓨쳐스콜레', 'location': '서울 성동구', 'experience_requirement': '경력 5년 이상'}, page_content=\"Mission : 우리는 지식으로 자신과 세상의 변화를 꿈꾸는 사람들을 연결합니다. Vision : 사는 곳이 배움의 기회를 제한하지 않는 세상을 만듭니다. [지식으로 세상을 연결하는 라이브클래스] 우리는 위 미션을 바탕으로 비전을 이루기 위해 ‘라이브클래스’와 '라이브클래스Pro'를 만들고 있습니다. ‘라이브클래스’는 나만의 온라인 강의 사이트를 손쉽게 만들 수 있는 지식 비즈니스 플랫폼으로 사람들이 자신의 지식을 가장 쉽고 빠르게 판매할 수 있도록 돕습니다. '라이브클래스Pro'는 대규모의 챌린지 또는 코호트 교육을 하는 기업에 최적화된 플랫폼으로 전용 앱과 웹을 제공합니다. [국내 1위 지식 비즈니스 플랫폼, 라이브클래스] • 2만 여개의 고객사, 월 50만명이 사용하는 플랫폼 • 창업 2년 만에 월 BEP 달성, 연 평균 500%의 거래액 성장 기록 • 정부 지자체, 대학, 민간기관 등 100여곳의 기관에서 활용하는 라이브클래스 • 70억 이상의 누적 투자 유치(뮤렉스파트너스, 티비티파트너스, HB인베스트먼트, 임팩트스퀘어 등) • 대한민국 대표 강사 김미경(MKYU)의 '미모리안' 등 각 분야별 1위 기업 및 지식 크리에이터들을 통한 성장 [우리는 이렇게 일하고 성장해요.] 1. 막연한 불안과 걱정 대신, 내가 바꿀 수 있는 것(영향력의 원)에 집중해요. 2. 고객이 다섯을 원할 때, 열을 만족 시키기 위해 노력해요. 3. 빠르게 실행하고, 데이터에 기반해 집요하게 개선해요. 4. 최고의 서비스를 만들기 위해 한계를 두지 않고 지속적으로 성장해요. 5. No라고 말하는 것을 두려워하지 않고, 결국 Yes를 이끌어 내요. 6. 상대방을 존중하되, 대안을 가지고 솔직하게 소통해요. 7. 미친 가속을 원하는 사람도, 워라밸을 원하는 사람도 상호 성장하는 문화를 만들어 가요. 8. 현재 내가 누리는 것에 감사하며, 대접 받고 싶은 대로 먼저 실천해요. 라이브클래스와 세상을 바꾸는 여정에 함께할 당신을 기다립니다. 다양한 백그라운드의 멋진 팀원들과 협업하며 엄청난 성장을 약속드려요. 주요업무 퓨쳐스콜레\")"
      ]
     },
     "execution_count": 18,
     "metadata": {},
     "output_type": "execute_result"
    }
   ],
   "source": [
    "data[0]"
   ]
  },
  {
   "cell_type": "code",
   "execution_count": null,
   "id": "40aaf153",
   "metadata": {},
   "outputs": [],
   "source": []
  },
  {
   "cell_type": "code",
   "execution_count": null,
   "id": "2f1fc1a7",
   "metadata": {},
   "outputs": [],
   "source": []
  },
  {
   "cell_type": "code",
   "execution_count": null,
   "id": "a9e14af5",
   "metadata": {},
   "outputs": [],
   "source": []
  }
 ],
 "metadata": {
  "kernelspec": {
   "display_name": ".venv",
   "language": "python",
   "name": "python3"
  },
  "language_info": {
   "codemirror_mode": {
    "name": "ipython",
    "version": 3
   },
   "file_extension": ".py",
   "mimetype": "text/x-python",
   "name": "python",
   "nbconvert_exporter": "python",
   "pygments_lexer": "ipython3",
   "version": "3.10.12"
  }
 },
 "nbformat": 4,
 "nbformat_minor": 5
}
